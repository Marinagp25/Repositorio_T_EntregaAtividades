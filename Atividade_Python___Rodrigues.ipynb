{
  "cells": [
    {
      "cell_type": "markdown",
      "metadata": {
        "id": "view-in-github",
        "colab_type": "text"
      },
      "source": [
        "<a href=\"https://colab.research.google.com/github/Rodrigues33/Repositorio_T_EntregaAtividades/blob/main/Atividade_Python___Rodrigues.ipynb\" target=\"_parent\"><img src=\"https://colab.research.google.com/assets/colab-badge.svg\" alt=\"Open In Colab\"/></a>"
      ]
    },
    {
      "cell_type": "code",
      "execution_count": null,
      "id": "47cc4546",
      "metadata": {
        "id": "47cc4546",
        "outputId": "5e9023d8-3d66-4125-d55a-4385220cafc4"
      },
      "outputs": [
        {
          "data": {
            "text/plain": [
              "2000"
            ]
          },
          "execution_count": 1,
          "metadata": {},
          "output_type": "execute_result"
        }
      ],
      "source": [
        "1000+1000"
      ]
    },
    {
      "cell_type": "code",
      "execution_count": null,
      "id": "da995a3f",
      "metadata": {
        "id": "da995a3f",
        "outputId": "1ccc73be-e9f6-4798-a4c9-b3176c15c2fd"
      },
      "outputs": [
        {
          "name": "stdout",
          "output_type": "stream",
          "text": [
            "Olá Tudo, Tudo bem\n",
            "Estou estudandoPaython\n"
          ]
        }
      ],
      "source": [
        "print(\"Olá Tudo, Tudo bem\")\n",
        "print(\"Estou estudando\" + \"Paython\")\n"
      ]
    },
    {
      "cell_type": "code",
      "execution_count": null,
      "id": "ec3baa35",
      "metadata": {
        "id": "ec3baa35",
        "outputId": "334e7347-20e7-4ca6-c31a-2a6b2e28cd7d"
      },
      "outputs": [
        {
          "name": "stdout",
          "output_type": "stream",
          "text": [
            "True\n"
          ]
        }
      ],
      "source": [
        "print(\"1\" in \"1\")"
      ]
    },
    {
      "cell_type": "code",
      "execution_count": null,
      "id": "7a154cb6",
      "metadata": {
        "id": "7a154cb6",
        "outputId": "11f8bb3c-2d30-42ec-cf2f-9246a4f4e91a"
      },
      "outputs": [
        {
          "name": "stdout",
          "output_type": "stream",
          "text": [
            "False\n"
          ]
        }
      ],
      "source": [
        "print(\"10\" in \"4\")"
      ]
    },
    {
      "cell_type": "code",
      "execution_count": null,
      "id": "350c1cd9",
      "metadata": {
        "id": "350c1cd9",
        "outputId": "2206287e-bfa7-46eb-b06a-59f04afc41f3"
      },
      "outputs": [
        {
          "name": "stdout",
          "output_type": "stream",
          "text": [
            "False\n"
          ]
        }
      ],
      "source": [
        "print(\"A Vaneise\"in\"é\")"
      ]
    },
    {
      "cell_type": "code",
      "execution_count": null,
      "id": "479d61ae",
      "metadata": {
        "id": "479d61ae"
      },
      "outputs": [],
      "source": [
        "print = \"text\""
      ]
    },
    {
      "cell_type": "code",
      "execution_count": null,
      "id": "dab069a0",
      "metadata": {
        "id": "dab069a0",
        "outputId": "ec819fa0-08bd-4fa8-e074-76b73c224445"
      },
      "outputs": [
        {
          "data": {
            "text/plain": [
              "1575.0"
            ]
          },
          "execution_count": 8,
          "metadata": {},
          "output_type": "execute_result"
        }
      ],
      "source": [
        "1500 +(1500*5/100)"
      ]
    },
    {
      "cell_type": "code",
      "execution_count": null,
      "id": "fdbebc9b",
      "metadata": {
        "id": "fdbebc9b",
        "outputId": "082618b8-48e6-4b0f-a378-2143df3a6348"
      },
      "outputs": [
        {
          "data": {
            "text/plain": [
              "1"
            ]
          },
          "execution_count": 9,
          "metadata": {},
          "output_type": "execute_result"
        }
      ],
      "source": [
        "3%2"
      ]
    },
    {
      "cell_type": "code",
      "execution_count": null,
      "id": "3b5cf96a",
      "metadata": {
        "id": "3b5cf96a",
        "outputId": "c152f300-5117-437a-beed-e9373e400c97"
      },
      "outputs": [
        {
          "data": {
            "text/plain": [
              "1"
            ]
          },
          "execution_count": 10,
          "metadata": {},
          "output_type": "execute_result"
        }
      ],
      "source": [
        "10%3"
      ]
    },
    {
      "cell_type": "code",
      "execution_count": null,
      "id": "2cd9d18f",
      "metadata": {
        "id": "2cd9d18f",
        "outputId": "52ee6a54-5621-4113-e9d0-e5f49b98f231"
      },
      "outputs": [
        {
          "data": {
            "text/plain": [
              "610"
            ]
          },
          "execution_count": 11,
          "metadata": {},
          "output_type": "execute_result"
        }
      ],
      "source": [
        "10+20*30"
      ]
    },
    {
      "cell_type": "code",
      "execution_count": null,
      "id": "eb3479ff",
      "metadata": {
        "id": "eb3479ff",
        "outputId": "c34a730c-906f-4311-edaf-5e5c0912012e"
      },
      "outputs": [
        {
          "data": {
            "text/plain": [
              "1.4"
            ]
          },
          "execution_count": 12,
          "metadata": {},
          "output_type": "execute_result"
        }
      ],
      "source": [
        "42/30"
      ]
    },
    {
      "cell_type": "code",
      "execution_count": null,
      "id": "6b0e6856",
      "metadata": {
        "id": "6b0e6856",
        "outputId": "71e74401-eb2b-4f50-f41c-f0558fce98a4"
      },
      "outputs": [
        {
          "data": {
            "text/plain": [
              "575"
            ]
          },
          "execution_count": 13,
          "metadata": {},
          "output_type": "execute_result"
        }
      ],
      "source": [
        "(94+2)*6-1"
      ]
    },
    {
      "cell_type": "code",
      "execution_count": null,
      "id": "d6773179",
      "metadata": {
        "id": "d6773179",
        "outputId": "b4c347b9-cb0b-4369-d72f-1325d743c4fa"
      },
      "outputs": [
        {
          "data": {
            "text/plain": [
              "107"
            ]
          },
          "execution_count": 16,
          "metadata": {},
          "output_type": "execute_result"
        }
      ],
      "source": [
        "((10+8))*((10-4))-1"
      ]
    },
    {
      "cell_type": "code",
      "execution_count": null,
      "id": "8a2237b9",
      "metadata": {
        "id": "8a2237b9",
        "outputId": "d404c123-64b4-4bd8-e06d-3bf06b7dbc52"
      },
      "outputs": [
        {
          "data": {
            "text/plain": [
              "13581.9"
            ]
          },
          "execution_count": 21,
          "metadata": {},
          "output_type": "execute_result"
        }
      ],
      "source": [
        "((1500+((100-9)/10))*9)"
      ]
    },
    {
      "cell_type": "code",
      "execution_count": null,
      "id": "5e24d28c",
      "metadata": {
        "id": "5e24d28c",
        "outputId": "cf82a727-7015-4781-afdc-b78db0e2b3c9"
      },
      "outputs": [
        {
          "data": {
            "text/plain": [
              "81.0"
            ]
          },
          "execution_count": 22,
          "metadata": {},
          "output_type": "execute_result"
        }
      ],
      "source": [
        "10%3*10**2+1-10*4/2"
      ]
    },
    {
      "cell_type": "code",
      "execution_count": null,
      "id": "85ed4bda",
      "metadata": {
        "id": "85ed4bda",
        "outputId": "aa7e26a0-ed35-4661-9050-895ee2937047"
      },
      "outputs": [
        {
          "name": "stdout",
          "output_type": "stream",
          "text": [
            "5\n"
          ]
        }
      ],
      "source": [
        "a = 2 \n",
        "b = 3 \n",
        "print (a + b) "
      ]
    },
    {
      "cell_type": "code",
      "execution_count": null,
      "id": "4c505747",
      "metadata": {
        "id": "4c505747",
        "outputId": "a7ee9efa-a65d-4fd1-eee7-9aa95ac49aaa"
      },
      "outputs": [
        {
          "name": "stdout",
          "output_type": "stream",
          "text": [
            "1575.0\n"
          ]
        }
      ],
      "source": [
        "salario = 1500 #(1)\n",
        "aumento = 5 #(2)\n",
        "print (salario +(salario*aumento/100)) #(3)"
      ]
    },
    {
      "cell_type": "code",
      "execution_count": null,
      "id": "81d648a6",
      "metadata": {
        "id": "81d648a6",
        "outputId": "c7190441-eac0-47b3-aa1c-8404b3c57e93"
      },
      "outputs": [
        {
          "name": "stdout",
          "output_type": "stream",
          "text": [
            "17\n"
          ]
        }
      ],
      "source": [
        "a = 2 \n",
        "b = 3 \n",
        "c = 5\n",
        "print (a + b * c) "
      ]
    },
    {
      "cell_type": "code",
      "execution_count": null,
      "id": "6b6605ce",
      "metadata": {
        "id": "6b6605ce",
        "outputId": "849dfef3-3667-4d8f-f8b9-59c0d9f6d93e"
      },
      "outputs": [
        {
          "name": "stdout",
          "output_type": "stream",
          "text": [
            "862.5\n"
          ]
        }
      ],
      "source": [
        "salario = 750 #(1)\n",
        "aumento = 15 #(2)\n",
        "print (salario +(salario*aumento/100)) #(3)"
      ]
    },
    {
      "cell_type": "code",
      "execution_count": null,
      "id": "3ade411d",
      "metadata": {
        "id": "3ade411d",
        "outputId": "2d5e7baa-12af-4ef3-9c1c-aab9b2db506c"
      },
      "outputs": [
        {
          "name": "stdout",
          "output_type": "stream",
          "text": [
            "metros?10\n",
            "1000.0\n"
          ]
        },
        {
          "data": {
            "text/plain": [
              "(None, 'cm')"
            ]
          },
          "execution_count": 4,
          "metadata": {},
          "output_type": "execute_result"
        }
      ],
      "source": [
        "metros = float (input('metros?'))\n",
        "cent = metros * 100;\n",
        "print (cent), 'cm'"
      ]
    },
    {
      "cell_type": "code",
      "execution_count": null,
      "id": "49f497bd",
      "metadata": {
        "id": "49f497bd"
      },
      "outputs": [],
      "source": [
        ""
      ]
    },
    {
      "cell_type": "code",
      "execution_count": null,
      "id": "d70ed11e",
      "metadata": {
        "id": "d70ed11e"
      },
      "outputs": [],
      "source": [
        ""
      ]
    }
  ],
  "metadata": {
    "kernelspec": {
      "display_name": "Python 3 (ipykernel)",
      "language": "python",
      "name": "python3"
    },
    "language_info": {
      "codemirror_mode": {
        "name": "ipython",
        "version": 3
      },
      "file_extension": ".py",
      "mimetype": "text/x-python",
      "name": "python",
      "nbconvert_exporter": "python",
      "pygments_lexer": "ipython3",
      "version": "3.9.7"
    },
    "colab": {
      "name": "Atividade Python _ Rodrigues.ipynb",
      "provenance": [],
      "include_colab_link": true
    }
  },
  "nbformat": 4,
  "nbformat_minor": 5
}