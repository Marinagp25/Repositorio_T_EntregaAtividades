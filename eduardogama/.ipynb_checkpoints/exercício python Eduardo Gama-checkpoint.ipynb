{
 "cells": [
  {
   "cell_type": "code",
   "execution_count": 3,
   "id": "60a61dfb",
   "metadata": {},
   "outputs": [
    {
     "name": "stdout",
     "output_type": "stream",
     "text": [
      "90\n"
     ]
    }
   ],
   "source": [
    "#exercicio 5.4\n",
    "a=3\n",
    "b=5\n",
    "print(2*a*3*b)"
   ]
  },
  {
   "cell_type": "code",
   "execution_count": 4,
   "id": "a4167cd4",
   "metadata": {},
   "outputs": [
    {
     "name": "stdout",
     "output_type": "stream",
     "text": [
      "9\n"
     ]
    }
   ],
   "source": [
    "#exercicio 5.5\n",
    "a=2\n",
    "b=3\n",
    "c=4\n",
    "print(a+b+c)"
   ]
  },
  {
   "cell_type": "code",
   "execution_count": 5,
   "id": "8975f41c",
   "metadata": {},
   "outputs": [
    {
     "name": "stdout",
     "output_type": "stream",
     "text": [
      "862.5\n"
     ]
    }
   ],
   "source": [
    "#exercicio 5.6\n",
    "salario=750\n",
    "aumento=15\n",
    "print(salario + (salario*aumento/100))"
   ]
  },
  {
   "cell_type": "code",
   "execution_count": 7,
   "id": "84ef176e",
   "metadata": {},
   "outputs": [
    {
     "name": "stdout",
     "output_type": "stream",
     "text": [
      "10000\n"
     ]
    }
   ],
   "source": [
    "#exercicio 5.7\n",
    "metro=100\n",
    "print(metro*100)"
   ]
  },
  {
   "cell_type": "code",
   "execution_count": 9,
   "id": "75fd8ba6",
   "metadata": {},
   "outputs": [
    {
     "name": "stdout",
     "output_type": "stream",
     "text": [
      "20\n"
     ]
    }
   ],
   "source": [
    "#exercicio 5.8\n",
    "numero=2\n",
    "print(numero*10)"
   ]
  },
  {
   "cell_type": "code",
   "execution_count": 11,
   "id": "47d45a26",
   "metadata": {},
   "outputs": [
    {
     "name": "stdout",
     "output_type": "stream",
     "text": [
      "6.0\n"
     ]
    }
   ],
   "source": [
    "#exercicio 5.9\n",
    "n1=3\n",
    "n2=9\n",
    "print((n1+n2)/2)"
   ]
  },
  {
   "cell_type": "code",
   "execution_count": 13,
   "id": "b37d6a0b",
   "metadata": {},
   "outputs": [
    {
     "name": "stdout",
     "output_type": "stream",
     "text": [
      "1150.0\n",
      "1100.0\n",
      "1050.0\n"
     ]
    }
   ],
   "source": [
    "#exercicio 5.10\n",
    "salario=1000\n",
    "r1=15\n",
    "r2=10\n",
    "r3=5\n",
    "print(salario + (salario*r1/100))\n",
    "print(salario + (salario*r2/100))\n",
    "print(salario + (salario*r3/100))"
   ]
  },
  {
   "cell_type": "code",
   "execution_count": 14,
   "id": "85c7ffc1",
   "metadata": {},
   "outputs": [
    {
     "name": "stdout",
     "output_type": "stream",
     "text": [
      "14\n"
     ]
    }
   ],
   "source": [
    "#exercicio 5.11\n",
    "a=8\n",
    "b=6\n",
    "print(a+b)"
   ]
  },
  {
   "cell_type": "code",
   "execution_count": 15,
   "id": "99b97c8d",
   "metadata": {},
   "outputs": [
    {
     "name": "stdout",
     "output_type": "stream",
     "text": [
      "15\n",
      "-5\n",
      "50\n",
      "0.5\n"
     ]
    }
   ],
   "source": [
    "#exercicio 5.12\n",
    "a=5\n",
    "b=10\n",
    "print(a+b)\n",
    "print(a-b)\n",
    "print(a*b)\n",
    "print(a/b)"
   ]
  },
  {
   "cell_type": "code",
   "execution_count": null,
   "id": "a6e56c56",
   "metadata": {},
   "outputs": [],
   "source": []
  }
 ],
 "metadata": {
  "kernelspec": {
   "display_name": "Python 3 (ipykernel)",
   "language": "python",
   "name": "python3"
  },
  "language_info": {
   "codemirror_mode": {
    "name": "ipython",
    "version": 3
   },
   "file_extension": ".py",
   "mimetype": "text/x-python",
   "name": "python",
   "nbconvert_exporter": "python",
   "pygments_lexer": "ipython3",
   "version": "3.9.7"
  }
 },
 "nbformat": 4,
 "nbformat_minor": 5
}
