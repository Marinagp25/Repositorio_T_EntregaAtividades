{
 "cells": [
  {
   "cell_type": "code",
   "execution_count": 1,
   "id": "28b0b649",
   "metadata": {},
   "outputs": [
    {
     "data": {
      "text/plain": [
       "610"
      ]
     },
     "execution_count": 1,
     "metadata": {},
     "output_type": "execute_result"
    }
   ],
   "source": [
    "10+20*30"
   ]
  },
  {
   "cell_type": "code",
   "execution_count": 1,
   "id": "b58bb9bd",
   "metadata": {},
   "outputs": [
    {
     "data": {
      "text/plain": [
       "0.5333333333333333"
      ]
     },
     "execution_count": 1,
     "metadata": {},
     "output_type": "execute_result"
    }
   ],
   "source": [
    "4**2/30\n"
   ]
  },
  {
   "cell_type": "code",
   "execution_count": 4,
   "id": "2010d67f",
   "metadata": {},
   "outputs": [
    {
     "data": {
      "text/plain": [
       "575"
      ]
     },
     "execution_count": 4,
     "metadata": {},
     "output_type": "execute_result"
    }
   ],
   "source": [
    "(94+2)*6-1"
   ]
  },
  {
   "cell_type": "code",
   "execution_count": 5,
   "id": "196a991b",
   "metadata": {},
   "outputs": [
    {
     "data": {
      "text/plain": [
       "107"
      ]
     },
     "execution_count": 5,
     "metadata": {},
     "output_type": "execute_result"
    }
   ],
   "source": [
    "((10+8)*(10-4)) -1"
   ]
  },
  {
   "cell_type": "code",
   "execution_count": 4,
   "id": "813a2e97",
   "metadata": {},
   "outputs": [
    {
     "ename": "SyntaxError",
     "evalue": "invalid character '−' (U+2212) (Temp/ipykernel_13644/3535248075.py, line 2)",
     "output_type": "error",
     "traceback": [
      "\u001b[1;36m  File \u001b[1;32m\"C:\\Users\\aluno05\\AppData\\Local\\Temp/ipykernel_13644/3535248075.py\"\u001b[1;36m, line \u001b[1;32m2\u001b[0m\n\u001b[1;33m    (100−9)/\u001b[0m\n\u001b[1;37m        ^\u001b[0m\n\u001b[1;31mSyntaxError\u001b[0m\u001b[1;31m:\u001b[0m invalid character '−' (U+2212)\n"
     ]
    }
   ],
   "source": [
    "((1500 + (\n",
    "(100−9)/\n",
    "10)) *9)**3"
   ]
  },
  {
   "cell_type": "code",
   "execution_count": null,
   "id": "dbba6e27",
   "metadata": {},
   "outputs": [],
   "source": []
  }
 ],
 "metadata": {
  "kernelspec": {
   "display_name": "Python 3 (ipykernel)",
   "language": "python",
   "name": "python3"
  },
  "language_info": {
   "codemirror_mode": {
    "name": "ipython",
    "version": 3
   },
   "file_extension": ".py",
   "mimetype": "text/x-python",
   "name": "python",
   "nbconvert_exporter": "python",
   "pygments_lexer": "ipython3",
   "version": "3.9.7"
  }
 },
 "nbformat": 4,
 "nbformat_minor": 5
}
