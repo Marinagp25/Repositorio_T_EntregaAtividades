{
  "nbformat": 4,
  "nbformat_minor": 0,
  "metadata": {
    "colab": {
      "name": "Exercicios de 1-10.ipynb",
      "provenance": [],
      "collapsed_sections": [],
      "authorship_tag": "ABX9TyNAOrvdfJ68kx9Gd8VAa7+8",
      "include_colab_link": true
    },
    "kernelspec": {
      "name": "python3",
      "display_name": "Python 3"
    },
    "language_info": {
      "name": "python"
    }
  },
  "cells": [
    {
      "cell_type": "markdown",
      "metadata": {
        "id": "view-in-github",
        "colab_type": "text"
      },
      "source": [
        "<a href=\"https://colab.research.google.com/github/ArtyGui/Repositorio_T_EntregaAtividades/blob/main/Exercicios_de_1_10.ipynb\" target=\"_parent\"><img src=\"https://colab.research.google.com/assets/colab-badge.svg\" alt=\"Open In Colab\"/></a>"
      ]
    },
    {
      "cell_type": "code",
      "execution_count": 1,
      "metadata": {
        "colab": {
          "base_uri": "https://localhost:8080/"
        },
        "id": "aUyG_L-bDptp",
        "outputId": "b9782a59-ba48-41c6-b856-11ad6133b906"
      },
      "outputs": [
        {
          "output_type": "stream",
          "name": "stdout",
          "text": [
            "610\n",
            "1.4\n",
            "575\n",
            "107\n",
            "2505426032558.259\n"
          ]
        }
      ],
      "source": [
        "#Exercicio 5.1\n",
        "\n",
        "#somar 10 + 20 x 30\n",
        "#dividir 42/30\n",
        "#soma entre parênteses e multiplicação e depois subtração\n",
        "#multiplicação entre parênteses com a subtração por 1\n",
        "#subtração com resultado sendo dividido por 10 e sendo somado com 1500 e multiplicado com 9 e sendo elevado ao cubo\n",
        "\n",
        "print(10+20 * 30)\n",
        "print(42/30)\n",
        "print((94+2)*6-1)\n",
        "print((10+8)*(10-4)-1)\n",
        "print(((1500+((100-9)/10))*9)**3)"
      ]
    },
    {
      "cell_type": "code",
      "source": [
        "#Exercicio 5.2\n",
        "#Seu salário é de 1500\n",
        "#Seu aumento será de 5%\n",
        "\n",
        "salario = 1500\n",
        "aumento = 5\n",
        "\n",
        "print(salario + (salario * aumento / 100))"
      ],
      "metadata": {
        "colab": {
          "base_uri": "https://localhost:8080/"
        },
        "id": "s4jMOZatPoWj",
        "outputId": "48d9c8e8-dd10-44dc-dc16-b57339efeaf1"
      },
      "execution_count": 2,
      "outputs": [
        {
          "output_type": "stream",
          "name": "stdout",
          "text": [
            "1575.0\n"
          ]
        }
      ]
    },
    {
      "cell_type": "code",
      "source": [
        "#Exercicio 5.3\n",
        "#O programa irá perguntar seu nome e exibir na tela\n",
        "\n",
        "nome = str(input('Escreva seu nome: '))\n",
        "\n",
        "print(f'Esse foi o nome que você escreveu: {nome}')"
      ],
      "metadata": {
        "colab": {
          "base_uri": "https://localhost:8080/"
        },
        "id": "8Lat1g_wP3xX",
        "outputId": "7a188bde-7ea2-4317-9d85-f2c7aed2730b"
      },
      "execution_count": 3,
      "outputs": [
        {
          "output_type": "stream",
          "name": "stdout",
          "text": [
            "Escreva seu nome: Artur\n",
            "Esse foi o nome que você escreveu: Artur\n"
          ]
        }
      ]
    },
    {
      "cell_type": "code",
      "source": [
        "#Exercicio 5.4\n",
        "# A vale 3\n",
        "# B vale 5\n",
        "\n",
        "print('A formula é 2a x 3b')\n",
        "\n",
        "a = 3\n",
        "b = 5\n",
        "formula = (2*a) * (3*b) \n",
        "\n",
        "print(f'O resultado de 2a x 3b é {formula}')"
      ],
      "metadata": {
        "colab": {
          "base_uri": "https://localhost:8080/"
        },
        "id": "i97eP-S6QDQH",
        "outputId": "fc419626-5c66-47e7-f1e1-b423bfec40c9"
      },
      "execution_count": 4,
      "outputs": [
        {
          "output_type": "stream",
          "name": "stdout",
          "text": [
            "A formula é 2a x 3b\n",
            "O resultado de 2a x 3b é 90\n"
          ]
        }
      ]
    },
    {
      "cell_type": "code",
      "source": [
        "#Exercicio 5.5\n",
        "#O programa irá fazer a soma de 3 números\n",
        "\n",
        "a = 2\n",
        "b =3\n",
        "c = 5\n",
        "\n",
        "print('Os números que serão somados é 2 + 3 + 5\\n')\n",
        "\n",
        "soma = (a+b) + c\n",
        "\n",
        "print(f'A soma desse números é: {soma}')"
      ],
      "metadata": {
        "colab": {
          "base_uri": "https://localhost:8080/"
        },
        "id": "E88RY0StQQsm",
        "outputId": "1d9c7523-197a-4636-9a6f-c454861ea0e2"
      },
      "execution_count": 5,
      "outputs": [
        {
          "output_type": "stream",
          "name": "stdout",
          "text": [
            "Os números que serão somados é 2 + 3 + 5\n",
            "\n",
            "A soma desse números é: 10\n"
          ]
        }
      ]
    },
    {
      "cell_type": "code",
      "source": [
        "#Exercicio 5.6\n",
        "#O programa irá dizer quanto será o seu novo salário\n",
        "salario = 750\n",
        "\n",
        "porcentagem = 15    #15% de aumento\n",
        "\n",
        "aumento = salario * porcentagem/100\n",
        "\n",
        "print(salario + aumento)"
      ],
      "metadata": {
        "colab": {
          "base_uri": "https://localhost:8080/"
        },
        "id": "Rz6UAzgXQbHO",
        "outputId": "f4c67271-8fcb-4fa0-84ad-51a02d7fb731"
      },
      "execution_count": 6,
      "outputs": [
        {
          "output_type": "stream",
          "name": "stdout",
          "text": [
            "862.5\n"
          ]
        }
      ]
    },
    {
      "cell_type": "code",
      "source": [
        "#Exercicio 5.7\n",
        "#O programa irá converter metros para centimetros\n",
        "#O usuário irá informar a quantidade em metros que será convertida em centimetros\n",
        "\n",
        "vmetros = float(input('Informe o valor em metros:\\n'))\n",
        "print('O valor está sendo sendo convertido\\n')\n",
        "\n",
        "conv = vmetros * 100\n",
        "print(f'O valor {vmetros} Metros foi convertido em {conv}')"
      ],
      "metadata": {
        "colab": {
          "base_uri": "https://localhost:8080/"
        },
        "id": "dmxi8yhaQrc0",
        "outputId": "2e8044ad-2f76-458c-a2a4-b8c4ac963231"
      },
      "execution_count": 7,
      "outputs": [
        {
          "output_type": "stream",
          "name": "stdout",
          "text": [
            "Informe o valor em metros:\n",
            "45\n",
            "O valor está sendo sendo convertido\n",
            "\n",
            "O valor 45.0 Metros foi convertido em 4500.0\n"
          ]
        }
      ]
    },
    {
      "cell_type": "code",
      "source": [
        "#Exercicio 5.8\n",
        "#O programa irá ler o valor inteiro que será informado e depois abrirar a tabuada de 1 a 10 do valor lido\n",
        "\n",
        "n1 = int(input('Digite um valor:\\n'))\n",
        "\n",
        "tab1 = n1 * 1\n",
        "tab2 = n1 * 2\n",
        "tab3 = n1 * 3\n",
        "tab4= n1 * 4\n",
        "tab5 = n1 * 5\n",
        "tab6 = n1 * 6\n",
        "tab7 = n1 * 7\n",
        "tab8 = n1 * 8\n",
        "tab9 = n1 * 9\n",
        "tab10 = n1 * 10\n",
        "\n",
        "print(f'A tabuada do número {n1} é:\\n {n1}x1 = {tab1}\\n {n1}x2 = {tab2}\\n {n1}x3 = {tab3}\\n {n1}x4 = {tab4}\\n {n1}x5 = {tab5}\\n) {n1}x6 = {tab6}\\n {n1}x7 = {tab7}\\n {n1}x8 = {tab8}\\n {n1}x9 = {tab9}\\n {n1}x10 = {tab10}\\n')\n"
      ],
      "metadata": {
        "colab": {
          "base_uri": "https://localhost:8080/"
        },
        "id": "JmnLjkXrQ1Ua",
        "outputId": "9057b728-6604-4942-ee42-598b7793dbfa"
      },
      "execution_count": 15,
      "outputs": [
        {
          "output_type": "stream",
          "name": "stdout",
          "text": [
            "Digite um valor:\n",
            "4\n",
            "A tabuada do número 4 é:\n",
            " 4x1 = 4\n",
            " 4x2 = 8\n",
            " 4x3 = 12\n",
            " 4x4 = 16\n",
            " 4x5 = 20\n",
            ") 4x6 = 24\n",
            " 4x7 = 28\n",
            " 4x8 = 32\n",
            " 4x9 = 36\n",
            " 4x10 = 40\n",
            "\n"
          ]
        }
      ]
    },
    {
      "cell_type": "code",
      "source": [
        "#Exercicio 5.9\n",
        "#O programa irá receber duas notas e calcular a média entre elas\n",
        "\n",
        "nota1 = float(input('Digite a primeira nota:\\n'))\n",
        "nota2 = float(input('Digite a segunda nota:\\n'))\n",
        "media = (nota1 + nota2)/2\n",
        "\n",
        "print(f'A média das notas informadas é: {media}')"
      ],
      "metadata": {
        "colab": {
          "base_uri": "https://localhost:8080/"
        },
        "id": "4Ox_TUIAU7zq",
        "outputId": "f34f580d-b46e-4eb0-fefc-e4d3f266caf9"
      },
      "execution_count": 20,
      "outputs": [
        {
          "output_type": "stream",
          "name": "stdout",
          "text": [
            "Digite a primeira nota:\n",
            "6\n",
            "Digite a segunda nota:\n",
            "6\n",
            "A média das notas informadas é: 6.0\n"
          ]
        }
      ]
    },
    {
      "cell_type": "code",
      "source": [
        "#Exercicio 5.10\n",
        "#O programa irá perguntar o salário atual do usuário e calcular o valor do novo com o reajuste de 15, 10 e 5%\n",
        "\n",
        "salario = float(input('Digite o valor do seu salário:\\n'))\n",
        "\n",
        "reaj15 = (salario + (salario * 15/100))\n",
        "reaj10 = (salario + (salario * 10/100))\n",
        "reaj5 = (salario + (salario * 5/100))\n",
        "\n",
        "print(f'O valor do reajuste de 15% é: {reaj15}')\n",
        "print(f'O valor do reajuste de 10% é: {reaj10}')\n",
        "print(f'O valor do reajuste de 5% é: {reaj5}')"
      ],
      "metadata": {
        "colab": {
          "base_uri": "https://localhost:8080/"
        },
        "id": "kOYgz87YW20g",
        "outputId": "0e918f41-6f33-4180-dc39-2d2a4bafec0b"
      },
      "execution_count": 23,
      "outputs": [
        {
          "output_type": "stream",
          "name": "stdout",
          "text": [
            "Digite o valor do seu salário:\n",
            "1500\n",
            "O valor do reajuste de 15% é: 1725.0\n",
            "O valor do reajuste de 10% é: 1650.0\n",
            "O valor do reajuste de 5% é: 1575.0\n"
          ]
        }
      ]
    }
  ]
}