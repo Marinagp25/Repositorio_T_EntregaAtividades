{
 "cells": [
  {
   "cell_type": "code",
   "execution_count": 1,
   "id": "48c15add",
   "metadata": {},
   "outputs": [
    {
     "name": "stdout",
     "output_type": "stream",
     "text": [
      "Digite um valor em metros2\n",
      "Seu valor em centimentros: 200\n"
     ]
    }
   ],
   "source": [
    "x=int(input(\"Digite um valor em metros\"))\n",
    "\n",
    "y= x * 100\n",
    "\n",
    "print(f\"Seu valor em centimentros: {y}\")"
   ]
  },
  {
   "cell_type": "code",
   "execution_count": null,
   "id": "a779311b",
   "metadata": {},
   "outputs": [],
   "source": []
  }
 ],
 "metadata": {
  "kernelspec": {
   "display_name": "Python 3 (ipykernel)",
   "language": "python",
   "name": "python3"
  },
  "language_info": {
   "codemirror_mode": {
    "name": "ipython",
    "version": 3
   },
   "file_extension": ".py",
   "mimetype": "text/x-python",
   "name": "python",
   "nbconvert_exporter": "python",
   "pygments_lexer": "ipython3",
   "version": "3.9.7"
  }
 },
 "nbformat": 4,
 "nbformat_minor": 5
}
